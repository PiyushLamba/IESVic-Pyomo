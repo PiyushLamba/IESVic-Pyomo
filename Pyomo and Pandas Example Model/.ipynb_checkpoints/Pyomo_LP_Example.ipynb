{
 "cells": [
  {
   "cell_type": "markdown",
   "metadata": {},
   "source": [
    "## This Pyomo example was taken from lecture \"Introduction to Math Modelling in Python\" given by professor **Brent Austgen** from the University of Texas Austin.\n",
    "* To watch his lecture follow this link: https://www.youtube.com/watch?v=pxCogCylmKs&t=2843s&ab_channel=UTAustinINFORMSStudentChapter\n",
    "* His GitHub repository with this lecture series is available at: https://github.com/brentertainer/pyomo-tutorials \n",
    "* For his code implementation using in-code data and a Pyomo concrete model go to: https://github.com/brentertainer/pyomo-tutorials/blob/master/introduction/02-lp-pyomo.ipynb"
   ]
  },
  {
   "cell_type": "markdown",
   "metadata": {},
   "source": [
    "# Problem at Hand\n",
    "\n",
    "Ten jobs are to be completed by three workers during the next week. Each worker has a 40-hour work week. The times for the workers to complete the jobs are shown in the table. The values in the cells assume that each job is completed by a single worker; however, jobs can be shared, with completion times being determined proportionally If no entry exists in a particular cell, it means that the corresponding job cannot be performed by the corresponding worker. Set up and solve an LP model that will determine the optimal assignment of workers to jobs. The goal is to minimize the total time required to complete all the jobs."
   ]
  },
  {
   "cell_type": "code",
   "execution_count": 10,
   "metadata": {},
   "outputs": [],
   "source": [
    "# Import modules\n",
    "import os\n",
    "import math\n",
    "import pandas as pd\n",
    "from pyomo.environ import *\n",
    "from pyomo.core import *\n",
    "from pyomo.opt import SolverFactory"
   ]
  },
  {
   "cell_type": "markdown",
   "metadata": {},
   "source": [
    "# Data"
   ]
  },
  {
   "cell_type": "code",
   "execution_count": 18,
   "metadata": {},
   "outputs": [
    {
     "name": "stdout",
     "output_type": "stream",
     "text": [
      "Parameter c:\n",
      " {('A', 2): 7.0, ('A', 3): 3.0, ('A', 6): 18.0, ('A', 7): 13.0, ('A', 8): 6.0, ('A', 10): 9.0, ('B', 1): 12.0, ('B', 2): 5.0, ('B', 4): 12.0, ('B', 5): 4.0, ('B', 6): 22.0, ('B', 8): 17.0, ('B', 9): 13.0, ('C', 1): 18.0, ('C', 3): 6.0, ('C', 4): 8.0, ('C', 5): 10.0, ('C', 7): 19.0, ('C', 9): 8.0, ('C', 10): 15.0}\n"
     ]
    }
   ],
   "source": [
    "excel_file = \"C:\\\\Users\\\\Cristiano\\\\Documents\\\\UVic\\\\Courses\\\\UVic-2021\\\\Fall-2021\\\\Co-op-Work-Term-IESVic\\\\Pyomo-Exercises\\\\Workers_Example.xlsx\"\r\n",
    "df = pd.read_excel(excel_file, sheet_name=1, index_col=0, header=0) # Load excel sheet into program\r\n",
    "\r\n",
    "#df = df.rename_axis('workers', axis=1) # Set column name as workers\r\n",
    "#df = df.rename_axis('tasks', axis=0) # set row names as tasks\r\n",
    "#print(df.head()) # Print datasheet to verify\r\n",
    "\r\n",
    "df = pd.DataFrame(df) # Create dataframe from excel sheet\r\n",
    "workers = df.columns.to_list() # Get workers values into a list\r\n",
    "#print(workers)\r\n",
    "tasks = df.index.to_list() # Get tasks values into a list\r\n",
    "#print(tasks)\r\n",
    "\r\n",
    "data_dictionary= df.to_dict('list') # Create an initial dictionary from data frame\r\n",
    "c = {} # Create empty parameter c as a dictionary\r\n",
    "\r\n",
    "for key,value in data_dictionary.items(): # Populate parameter c from dataframe dictionary\r\n",
    "    for i in range(len(df.index)):\r\n",
    "        if not math.isnan(value[i]): # Exclude empty cell values\r\n",
    "            c[(key, df.index[i])] = value[i]\r\n",
    "            \r\n",
    "print(\"Parameter c:\\n\", c) # Verify parameter c\r\n",
    "\r\n",
    "df_max_hours = pd.read_excel(excel_file, sheet_name=2, index_col=0, header=0)\r\n",
    "# print(df_max_hours.head())\r\n",
    "max_hours = df_max_hours['Value'].to_list() # Get maximum hours parameter\r\n",
    "#print(max_hours)"
   ]
  },
  {
   "attachments": {
    "image.png": {
     "image/png": "[encoded data removed]"
    }
   },
   "cell_type": "markdown",
   "metadata": {},
   "source": [
    "# Model Definition \n",
    "Define $W$ as the set of workers and $T$ as the sets of tasks. Also, define $c_{wt}$ as the number of hours worker $w$ requires to complete task $t$. (Note that we do not explicitly prohibit a worker from completiting as task; rather, we make the cost arbitrarily large if worker $w$ is unable to perform task $t$.) Let $x_{wt}$ be the proportion of task $t$ that is completed by worker $j$. Let $H$ be the max number of hours that any single worker may log in a week.\n",
    "\n",
    "![image.png](attachment:image.png)"
   ]
  },
  {
   "cell_type": "code",
   "execution_count": 12,
   "metadata": {},
   "outputs": [],
   "source": [
    "# Model definitions\r\n",
    "\r\n",
    "# Sets\r\n",
    "model = AbstractModel()\r\n",
    "model.workers = Set(initialize=workers)\r\n",
    "model.tasks = Set(initialize=tasks)\r\n",
    "\r\n",
    "\r\n",
    "# Paramteters\r\n",
    "# Parameter c contains missing values, therefore it needs to be mutable for Pyomo to assign the default value to the missing components\r\n",
    "model.c = Param(model.workers, model.tasks, within=Reals, initialize=c, default=100000000, mutable=True)\r\n",
    "model.max_hours = Param(domain=NonNegativeIntegers, initialize=max_hours[0])\r\n",
    "\r\n",
    "\r\n",
    "# Variables\r\n",
    "model.x = Var(model.workers, model.tasks, domain=Reals, bounds=(0,1)) # Single variable problem\r\n"
   ]
  },
  {
   "cell_type": "code",
   "execution_count": 13,
   "metadata": {},
   "outputs": [],
   "source": [
    "# Objective function\n",
    "def ObjectiveFunction(model):\n",
    "    return(sum(model.c[w, t] * model.x[w, t] for w in model.workers for t in model.tasks))\n",
    "model.OBJ = Objective(sense=minimize, rule=ObjectiveFunction)"
   ]
  },
  {
   "cell_type": "code",
   "execution_count": 14,
   "metadata": {},
   "outputs": [],
   "source": [
    "# Constraints\n",
    "def Hour_limit_constraint(model, w):\n",
    "    lhs = sum(model.c[w, t] * model.x[w, t] for t in model.tasks)\n",
    "    rhs = model.max_hours\n",
    "    return(lhs <= rhs)\n",
    "\n",
    "model.hour_limit = Constraint(model.workers, rule=Hour_limit_constraint)\n",
    "\n",
    "def Tasks_done_constraint(model, t):\n",
    "    lhs = sum(model.x[w, t] for w in model.workers)\n",
    "    rhs = 1\n",
    "    return(lhs == rhs)\n",
    "\n",
    "model.tasks_done = Constraint(model.tasks, rule=Tasks_done_constraint)"
   ]
  },
  {
   "cell_type": "code",
   "execution_count": 15,
   "metadata": {},
   "outputs": [
    {
     "name": "stdout",
     "output_type": "stream",
     "text": [
      "c : Size=30, Index=c_index, Domain=Reals, Default=100000000, Mutable=True\n",
      "    Key       : Value\n",
      "     ('A', 1) : 100000000\n",
      "     ('A', 2) :       7.0\n",
      "     ('A', 3) :       3.0\n",
      "     ('A', 4) : 100000000\n",
      "     ('A', 5) : 100000000\n",
      "     ('A', 6) :      18.0\n",
      "     ('A', 7) :      13.0\n",
      "     ('A', 8) :       6.0\n",
      "     ('A', 9) : 100000000\n",
      "    ('A', 10) :       9.0\n",
      "     ('B', 1) :      12.0\n",
      "     ('B', 2) :       5.0\n",
      "     ('B', 3) : 100000000\n",
      "     ('B', 4) :      12.0\n",
      "     ('B', 5) :       4.0\n",
      "     ('B', 6) :      22.0\n",
      "     ('B', 7) : 100000000\n",
      "     ('B', 8) :      17.0\n",
      "     ('B', 9) :      13.0\n",
      "    ('B', 10) : 100000000\n",
      "     ('C', 1) :      18.0\n",
      "     ('C', 2) : 100000000\n",
      "     ('C', 3) :       6.0\n",
      "     ('C', 4) :       8.0\n",
      "     ('C', 5) :      10.0\n",
      "     ('C', 6) : 100000000\n",
      "     ('C', 7) :      19.0\n",
      "     ('C', 8) : 100000000\n",
      "     ('C', 9) :       8.0\n",
      "    ('C', 10) :      15.0\n",
      "\n",
      "Welcome to IBM(R) ILOG(R) CPLEX(R) Interactive Optimizer 20.1.0.0\n",
      "  with Simplex, Mixed Integer & Barrier Optimizers\n",
      "5725-A06 5725-A29 5724-Y48 5724-Y49 5724-Y54 5724-Y55 5655-Y21\n",
      "Copyright IBM Corp. 1988, 2020.  All Rights Reserved.\n",
      "\n",
      "Type 'help' for a list of available commands.\n",
      "Type 'help' followed by a command name for more\n",
      "information on commands.\n",
      "\n",
      "CPLEX> Logfile 'cplex.log' closed.\n",
      "Logfile 'C:\\Users\\Cristiano\\AppData\\Local\\Temp\\tmpwt1oqmis.cplex.log' open.\n",
      "CPLEX> Problem 'C:\\Users\\Cristiano\\AppData\\Local\\Temp\\tmpzlrs62hs.pyomo.lp' read.\n",
      "Read time = 0.02 sec. (0.00 ticks)\n",
      "CPLEX> Problem name         : C:\\Users\\Cristiano\\AppData\\Local\\Temp\\tmpzlrs62hs.pyomo.lp\n",
      "Objective sense      : Minimize\n",
      "Variables            :      31  [Nneg: 1,  Box: 30]\n",
      "Objective nonzeros   :      30\n",
      "Linear constraints   :      14  [Less: 3,  Equal: 11]\n",
      "  Nonzeros           :      61\n",
      "  RHS nonzeros       :      14\n",
      "\n",
      "Variables            : Min LB: 0.000000         Max UB: 1.000000       \n",
      "Objective nonzeros   : Min   : 3.000000         Max   : 1.000000e+08   \n",
      "Linear constraints   :\n",
      "  Nonzeros           : Min   : 1.000000         Max   : 1.000000e+08   \n",
      "  RHS nonzeros       : Min   : 1.000000         Max   : 40.00000       \n",
      "CPLEX> Version identifier: 20.1.0.0 | 2020-11-10 | 9bedb6d68\n",
      "Tried aggregator 1 time.\n",
      "LP Presolve eliminated 1 rows and 1 columns.\n",
      "Reduced LP has 13 rows, 30 columns, and 60 nonzeros.\n",
      "Presolve time = 0.00 sec. (0.02 ticks)\n",
      "Initializing dual steep norms . . .\n",
      "\n",
      "Iteration log . . .\n",
      "Iteration:     1   Dual objective     =            88.000000\n",
      "\n",
      "Dual simplex - Optimal:  Objective =  8.8000000000e+01\n",
      "Solution time =    0.00 sec.  Iterations = 1 (0)\n",
      "Deterministic time = 0.05 ticks  (47.28 ticks/sec)\n",
      "\n",
      "CPLEX> Solution written to file 'C:\\Users\\Cristiano\\AppData\\Local\\Temp\\tmphuwr9aiz.cplex.sol'.\n",
      "CPLEX> "
     ]
    }
   ],
   "source": [
    "# Problem solution\r\n",
    "instance = model.create_instance()\r\n",
    "instance.c.pprint()\r\n",
    "opt = SolverFactory('cplex') # This problem may be solved using any solver of the user's choice (GLPK, CPLEX, Gurobi, etc.)\r\n",
    "final_result = opt.solve(instance, tee=True) # Solve and output solver information\r\n"
   ]
  },
  {
   "cell_type": "code",
   "execution_count": 7,
   "metadata": {},
   "outputs": [
    {
     "data": {
      "text/plain": [
       "('C:\\\\Users\\\\Cristiano\\\\Documents\\\\UVic\\\\Courses\\\\UVic-2021\\\\Fall-2021\\\\Co-op-Work-Term-IESVic\\\\Pyomo-Exercises\\\\Workers.lp',\n",
       " 1863339852072)"
      ]
     },
     "execution_count": 7,
     "metadata": {},
     "output_type": "execute_result"
    }
   ],
   "source": [
    "# Write solution to file\n",
    "my_path = \"C:\\\\Users\\\\Cristiano\\\\Documents\\\\UVic\\\\Courses\\\\UVic-2021\\\\Fall-2021\\\\Co-op-Work-Term-IESVic\\\\Pyomo-Exercises\"\n",
    "filename = os.path.join(my_path, 'Workers.lp')\n",
    "instance.write(filename, io_options={'symbolic_solver_labels': True})"
   ]
  },
  {
   "cell_type": "code",
   "execution_count": null,
   "metadata": {},
   "outputs": [],
   "source": []
  }
 ],
 "metadata": {
  "interpreter": {
   "hash": "7b74ea3f39c45a8d8b6a65f239d5ac4b02f06e18e11de571186894687cdbafad"
  },
  "kernelspec": {
   "display_name": "Python 3.7.3 64-bit ('IESVic_Python': conda)",
   "name": "python3"
  },
  "language_info": {
   "codemirror_mode": {
    "name": "ipython",
    "version": 3
   },
   "file_extension": ".py",
   "mimetype": "text/x-python",
   "name": "python",
   "nbconvert_exporter": "python",
   "pygments_lexer": "ipython3",
   "version": "3.7.3"
  }
 },
 "nbformat": 4,
 "nbformat_minor": 5
}